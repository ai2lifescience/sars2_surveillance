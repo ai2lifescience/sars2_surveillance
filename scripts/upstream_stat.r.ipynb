{
 "cells": [
  {
   "cell_type": "code",
   "execution_count": null,
   "id": "b7d9bc2c-776a-4a06-8bbc-63ae09dcaa9d",
   "metadata": {
    "tags": []
   },
   "outputs": [],
   "source": [
    "R.home()"
   ]
  },
  {
   "cell_type": "code",
   "execution_count": null,
   "id": "2a9ff73d-ee1c-4611-9bb9-53b84a2f6215",
   "metadata": {
    "tags": []
   },
   "outputs": [],
   "source": [
    "library(tidyverse)\n",
    "library(rjson)\n",
    "library(Biostrings)"
   ]
  },
  {
   "cell_type": "code",
   "execution_count": null,
   "id": "aa2fac02-0cbe-41e2-b8f8-56a70d9818ef",
   "metadata": {
    "tags": []
   },
   "outputs": [],
   "source": [
    "# qc"
   ]
  },
  {
   "cell_type": "code",
   "execution_count": null,
   "id": "14e522ea-098d-459a-8263-707197e0198a",
   "metadata": {
    "tags": []
   },
   "outputs": [],
   "source": [
    "parse_fastp <- function(sample, path) {\n",
    "    Ljs <- fromJSON(file=path)\n",
    "    bind_cols(\n",
    "        sample=sample,\n",
    "        Ljs$summary$before_filtering %>% as_tibble %>% \n",
    "            select(readpair_raw=total_reads, q30_raw=q30_rate, R1_len_raw=read1_mean_length, R2_len_raw=read2_mean_length, GC_raw=gc_content),\n",
    "        Ljs$summary$after_filtering %>% as_tibble %>% \n",
    "            select(readpair_flt=total_reads, q30_flt=q30_rate, R1_len_flt=read1_mean_length, R2_len_flt=read2_mean_length, GC_flt=gc_content)\n",
    "    ) %>%\n",
    "    mutate(readpair_raw=readpair_raw/2, readpair_flt=readpair_flt/2)\n",
    "}"
   ]
  },
  {
   "cell_type": "code",
   "execution_count": null,
   "id": "89145b8d-9dcd-4662-9fde-e3b273dcc052",
   "metadata": {
    "tags": []
   },
   "outputs": [],
   "source": [
    "TBqc <- snakemake@input$Lqc %>% map_dfr(\n",
    "    ~parse_fastp(str_replace(basename(.x), '\\\\.\\\\w+$', ''), .x)\n",
    "    )"
   ]
  },
  {
   "cell_type": "code",
   "execution_count": null,
   "id": "056dded0-0809-41b2-9054-9c6f45708b98",
   "metadata": {
    "tags": []
   },
   "outputs": [],
   "source": [
    "# align"
   ]
  },
  {
   "cell_type": "code",
   "execution_count": null,
   "id": "12e70dca-a196-437a-a5e7-544a74adf010",
   "metadata": {
    "tags": []
   },
   "outputs": [],
   "source": [
    "parse_align <- function(sample, path) {\n",
    "    Vlog <- file(path, open=\"r\") %>% readLines\n",
    "    align_reads <- Vlog %>% grep('Mapped Reads: \\\\d+', ., value=TRUE) %>% \n",
    "        str_split(': ') %>% map_chr(~.x[2]) %>% as.double\n",
    "    names(align_reads) <- sample\n",
    "    return (align_reads)\n",
    "}"
   ]
  },
  {
   "cell_type": "code",
   "execution_count": null,
   "id": "935d82ad-73f7-42d2-9b17-adefadab83bf",
   "metadata": {
    "tags": []
   },
   "outputs": [],
   "source": [
    "TBalign <- snakemake@input$Lalign_rate %>% \n",
    "    map(~parse_align(str_replace(basename(.x), '\\\\.\\\\w+$', ''), .x)) %>%\n",
    "    unlist %>% as_tibble(rownames='sample') %>% dplyr::rename(align_reads=value)"
   ]
  },
  {
   "cell_type": "code",
   "execution_count": null,
   "id": "4f5aba58-e2f4-4f2a-ba41-0ea358bd0262",
   "metadata": {
    "tags": []
   },
   "outputs": [],
   "source": [
    "# dup"
   ]
  },
  {
   "cell_type": "code",
   "execution_count": null,
   "id": "3f25e741-cc0f-40ac-b55e-b51855eae772",
   "metadata": {
    "tags": []
   },
   "outputs": [],
   "source": [
    "parse_dup <- function (sample, path) {\n",
    "    Vlog <- file(path, open=\"r\") %>% readLines\n",
    "    dup_reads <- Vlog %>% grep(' found \\\\d+ duplicates', ., value=TRUE) %>% \n",
    "        str_split(' ') %>% map_chr(~.x[4]) %>% as.double\n",
    "    names(dup_reads) <- sample\n",
    "    return (dup_reads)\n",
    "}"
   ]
  },
  {
   "cell_type": "code",
   "execution_count": null,
   "id": "f7178c8c-bd7d-4c7b-949f-d5620661b9c0",
   "metadata": {
    "tags": []
   },
   "outputs": [],
   "source": [
    "TBdup <- snakemake@input$Ldup_rate %>% \n",
    "    map(~parse_dup(str_replace(basename(.x), '\\\\.\\\\w+$', ''), .x)) %>%\n",
    "    unlist %>% as_tibble(rownames='sample') %>% dplyr::rename(dup_reads=value)"
   ]
  },
  {
   "cell_type": "code",
   "execution_count": null,
   "id": "01502359-f8cb-42ef-a69c-c955d4a7c428",
   "metadata": {},
   "outputs": [],
   "source": [
    "# variant info"
   ]
  },
  {
   "cell_type": "code",
   "execution_count": null,
   "id": "b43c6635-ea91-435f-9027-69be5c9a3fb2",
   "metadata": {},
   "outputs": [],
   "source": [
    "parse_altfreq <- function(path, high_altfreq_threshold=0.6) {\n",
    "    tb <- read_tsv(path)\n",
    "    high_altfreq <- tb %>% filter(ALT_FREQ > high_altfreq_threshold) %>% nrow / nrow(tb)\n",
    "    sample <- unique(tb$REGION)\n",
    "    names(high_altfreq) <- sample\n",
    "    return (high_altfreq)\n",
    "}"
   ]
  },
  {
   "cell_type": "code",
   "execution_count": null,
   "id": "83c363c1-87cc-4fbb-967d-77f532b14dbe",
   "metadata": {},
   "outputs": [],
   "source": [
    "high_altfreq_threshold <- snakemake@params$high_altfreq_threshold"
   ]
  },
  {
   "cell_type": "code",
   "execution_count": null,
   "id": "3e8cbd2e-5afa-4cd6-ba82-03ece38bf99a",
   "metadata": {},
   "outputs": [],
   "source": [
    "TBaltfreq <- snakemake@input$Lvariant_info %>% \n",
    "    map(~parse_altfreq(.x, high_altfreq_threshold)) %>% unlist %>% \n",
    "    as_tibble(rownames='sample') %>% dplyr::rename(high_altfreq=value)"
   ]
  },
  {
   "cell_type": "code",
   "execution_count": null,
   "id": "87ddc18c-3034-4958-916a-ac366cfa9025",
   "metadata": {},
   "outputs": [],
   "source": [
    "# nextclade"
   ]
  },
  {
   "cell_type": "code",
   "execution_count": null,
   "id": "965c8bc7-5c8b-40b8-a5f3-6c69ed0881fc",
   "metadata": {},
   "outputs": [],
   "source": [
    "parse_nextclade <- function(path) {\n",
    "    tb <- read_delim(path, delim=';') %>% select(seqName, Nextclade_pango, partiallyAliased, clade_nextstrain, coverage, qc.overallScore, \n",
    "                  totalAminoacidSubstitutions, totalAminoacidDeletions, totalFrameShifts, \n",
    "                  aaSubstitutions, aaDeletions, missing)\n",
    "    return (tb)\n",
    "}"
   ]
  },
  {
   "cell_type": "code",
   "execution_count": null,
   "id": "6c9d3f1f-6158-424b-a57a-d5418f624d7a",
   "metadata": {},
   "outputs": [],
   "source": [
    "TBnextclade <- parse_nextclade(snakemake@input$nextclade_csv) %>%\n",
    "    dplyr::rename(sample=seqName)"
   ]
  },
  {
   "cell_type": "code",
   "execution_count": null,
   "id": "ed44714c-ac26-4e20-882f-3ea7462d6846",
   "metadata": {
    "tags": []
   },
   "outputs": [],
   "source": [
    "# merge"
   ]
  },
  {
   "cell_type": "code",
   "execution_count": null,
   "id": "aff4bbb7-f40d-4d56-98d9-e9deabe35b58",
   "metadata": {
    "tags": []
   },
   "outputs": [],
   "source": [
    "TBres <- TBqc %>% left_join(TBdup, by='sample') %>% \n",
    "    left_join(TBalign, by='sample') %>% left_join(TBaltfreq, by='sample') %>%\n",
    "    left_join(TBnextclade, by='sample')"
   ]
  },
  {
   "cell_type": "code",
   "execution_count": null,
   "id": "5ebacaaa-fdc9-44e8-83b1-c4cae1804410",
   "metadata": {
    "tags": []
   },
   "outputs": [],
   "source": [
    "# format"
   ]
  },
  {
   "cell_type": "code",
   "execution_count": null,
   "id": "3c929a15-6934-4f35-b970-e0158f985517",
   "metadata": {
    "tags": []
   },
   "outputs": [],
   "source": [
    "TBres <- TBres %>% mutate(\n",
    "        qc.overallScore=round(qc.overallScore, 1),\n",
    "        coverage=round(coverage, 3),\n",
    "        align_rate=round(align_reads/(2*readpair_flt), 3),\n",
    "        dup_rate=round(dup_reads/(2*readpair_flt), 3),\n",
    "        high_altfreq=round(high_altfreq, 3),\n",
    "        q30_raw=round(q30_raw, 3),\n",
    "        q30_flt=round(q30_flt, 3),\n",
    "        GC_raw=round(GC_raw, 3),\n",
    "        GC_flt=round(GC_flt, 3),\n",
    "        # PE150, and 30000 for nCoV genome length\n",
    "        depth=round(readpair_flt * 300 * align_rate / 30000) %>% str_c('x')) %>% \n",
    "    select(-align_reads, -dup_reads)"
   ]
  },
  {
   "cell_type": "code",
   "execution_count": null,
   "id": "c67809e7-d8b6-4bb4-addc-1005a5dfb9f9",
   "metadata": {},
   "outputs": [],
   "source": [
    "# relocate"
   ]
  },
  {
   "cell_type": "code",
   "execution_count": null,
   "id": "7cca7b2c-8789-4b12-bf45-46bce4610735",
   "metadata": {},
   "outputs": [],
   "source": [
    "Vsel <- c('sample', 'Nextclade_pango', 'qc.overallScore', 'depth', 'coverage', 'align_rate', 'dup_rate', 'high_altfreq', 'totalFrameShifts', 'readpair_raw', 'q30_raw', 'R1_len_raw', 'R2_len_raw', 'GC_raw', 'readpair_flt', 'q30_flt', 'R1_len_flt', 'R2_len_flt', 'GC_flt', 'partiallyAliased', 'clade_nextstrain', 'totalAminoacidSubstitutions', 'totalAminoacidDeletions', 'aaSubstitutions', 'aaDeletions', 'missing')"
   ]
  },
  {
   "cell_type": "code",
   "execution_count": null,
   "id": "18dd9460-e74b-4c52-a147-c9f3f18c3425",
   "metadata": {},
   "outputs": [],
   "source": [
    "TBres <- TBres %>% select(all_of(Vsel))"
   ]
  },
  {
   "cell_type": "code",
   "execution_count": null,
   "id": "1deaf244-a370-4d94-9adf-71d1a3424208",
   "metadata": {},
   "outputs": [],
   "source": [
    "TBres %>% write_excel_csv(snakemake@output$upstream_stat)"
   ]
  }
 ],
 "metadata": {
  "kernelspec": {
   "display_name": "nCoV",
   "language": "R",
   "name": "ncov"
  },
  "language_info": {
   "codemirror_mode": "r",
   "file_extension": ".r",
   "mimetype": "text/x-r-source",
   "name": "R",
   "pygments_lexer": "r",
   "version": "4.2.2"
  }
 },
 "nbformat": 4,
 "nbformat_minor": 5
}
