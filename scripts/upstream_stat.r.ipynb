{
 "cells": [
  {
   "cell_type": "code",
   "execution_count": null,
   "id": "237b7283-2215-4046-b9a9-69ab533a24c3",
   "metadata": {
    "tags": []
   },
   "outputs": [],
   "source": [
    "R.home()"
   ]
  },
  {
   "cell_type": "code",
   "execution_count": null,
   "id": "decdfbce-6173-4b90-bbe3-4e01647ef505",
   "metadata": {
    "tags": []
   },
   "outputs": [],
   "source": [
    "library(tidyverse)\n",
    "library(rjson)\n",
    "library(Biostrings)"
   ]
  },
  {
   "cell_type": "code",
   "execution_count": null,
   "id": "eed786ef-26da-4bce-87cf-838474141645",
   "metadata": {
    "tags": []
   },
   "outputs": [],
   "source": [
    "# qc"
   ]
  },
  {
   "cell_type": "code",
   "execution_count": null,
   "id": "f75bf58a-d30b-4eb4-a78f-50894ff3b6e3",
   "metadata": {
    "tags": []
   },
   "outputs": [],
   "source": [
    "parse_fastp <- function(sample, path) {\n",
    "    Ljs <- fromJSON(file=path)\n",
    "    bind_cols(\n",
    "        sample=sample,\n",
    "        Ljs$summary$before_filtering %>% as_tibble %>% \n",
    "            select(readpair_raw=total_reads, q30_raw=q30_rate, R1_len_raw=read1_mean_length, R2_len_raw=read2_mean_length, GC_raw=gc_content),\n",
    "        Ljs$summary$after_filtering %>% as_tibble %>% \n",
    "            select(readpair_flt=total_reads, q30_flt=q30_rate, R1_len_flt=read1_mean_length, R2_len_flt=read2_mean_length, GC_flt=gc_content)\n",
    "    ) %>%\n",
    "    mutate(readpair_raw=readpair_raw/2, readpair_flt=readpair_flt/2)\n",
    "}"
   ]
  },
  {
   "cell_type": "code",
   "execution_count": null,
   "id": "7bbf228b-2232-429b-af5c-6c26a56077f7",
   "metadata": {
    "tags": []
   },
   "outputs": [],
   "source": [
    "TBqc <- snakemake@input$Lqc %>% map_dfr(\n",
    "    ~parse_fastp(str_replace(basename(.x), '\\\\.\\\\w+$', ''), .x)\n",
    "    )"
   ]
  },
  {
   "cell_type": "code",
   "execution_count": null,
   "id": "730b1a16-9930-43f2-8775-ab00cc3668e3",
   "metadata": {
    "tags": []
   },
   "outputs": [],
   "source": [
    "# consensus sequence"
   ]
  },
  {
   "cell_type": "code",
   "execution_count": null,
   "id": "5029997f-624d-4ff4-9c0e-0154dbba9973",
   "metadata": {
    "tags": []
   },
   "outputs": [],
   "source": [
    "TBseq <- snakemake@input$Lconsensus %>% readDNAStringSet %>% as.data.frame %>% \n",
    "    rownames_to_column('sample') %>% select(sample=1, consensus_seq=2)"
   ]
  },
  {
   "cell_type": "code",
   "execution_count": null,
   "id": "c15a863d-8b34-4864-9bd7-02f8707d0a0f",
   "metadata": {
    "tags": []
   },
   "outputs": [],
   "source": [
    "# align"
   ]
  },
  {
   "cell_type": "code",
   "execution_count": null,
   "id": "d469dc2c-22df-408b-bf8a-5494632411ff",
   "metadata": {
    "tags": []
   },
   "outputs": [],
   "source": [
    "parse_align <- function(sample, path) {\n",
    "    Vlog <- file(path, open=\"r\") %>% readLines\n",
    "    align_reads <- Vlog %>% grep('Found \\\\d+ mapped reads', ., value=TRUE) %>% \n",
    "        str_split(' ') %>% map_chr(~.x[2]) %>% as.double\n",
    "    names(align_reads) <- sample\n",
    "    return (align_reads)\n",
    "}"
   ]
  },
  {
   "cell_type": "code",
   "execution_count": null,
   "id": "caee6d10-8d50-4d7a-9032-5523535cd5eb",
   "metadata": {
    "tags": []
   },
   "outputs": [],
   "source": [
    "TBalign <- snakemake@input$Lalign_rate %>% \n",
    "    map(~parse_align(str_replace(basename(.x), '\\\\.\\\\w+$', ''), .x)) %>%\n",
    "    unlist %>% as_tibble(rownames='sample') %>% dplyr::rename(align_reads=value)"
   ]
  },
  {
   "cell_type": "code",
   "execution_count": null,
   "id": "504f3b19-3190-4af3-a4ee-b5bd7a5af4e5",
   "metadata": {
    "tags": []
   },
   "outputs": [],
   "source": [
    "# dup"
   ]
  },
  {
   "cell_type": "code",
   "execution_count": null,
   "id": "9adeda71-5492-472e-8d67-7e3f7e6d4825",
   "metadata": {
    "tags": []
   },
   "outputs": [],
   "source": [
    "parse_dup <- function (sample, path) {\n",
    "    Vlog <- file(path, open=\"r\") %>% readLines\n",
    "    dup_reads <- Vlog %>% grep(' found \\\\d+ duplicates', ., value=TRUE) %>% \n",
    "        str_split(' ') %>% map_chr(~.x[4]) %>% as.double\n",
    "    names(dup_reads) <- sample\n",
    "    return (dup_reads)\n",
    "}"
   ]
  },
  {
   "cell_type": "code",
   "execution_count": null,
   "id": "c3c10d84-269c-475a-bb33-0d9d3f9fa742",
   "metadata": {
    "tags": []
   },
   "outputs": [],
   "source": [
    "TBdup <- snakemake@input$Ldup_rate %>% \n",
    "    map(~parse_dup(str_replace(basename(.x), '\\\\.\\\\w+$', ''), .x)) %>%\n",
    "    unlist %>% as_tibble(rownames='sample') %>% dplyr::rename(dup_reads=value)"
   ]
  },
  {
   "cell_type": "code",
   "execution_count": null,
   "id": "556822a1-d544-48cf-ac0a-9b89a9468945",
   "metadata": {},
   "outputs": [],
   "source": [
    "# variant info"
   ]
  },
  {
   "cell_type": "code",
   "execution_count": null,
   "id": "f0cfe9c4-8a31-4c27-a5fb-17985d1b82b3",
   "metadata": {},
   "outputs": [],
   "source": [
    "parse_altfreq <- function(path, high_altfreq_threshold=0.6) {\n",
    "    tb <- read_tsv(path)\n",
    "    high_altfreq <- tb %>% filter(ALT_FREQ > high_altfreq_threshold) %>% nrow / nrow(tb)\n",
    "    sample <- unique(tb$REGION)\n",
    "    names(high_altfreq) <- sample\n",
    "    return (high_altfreq)\n",
    "}"
   ]
  },
  {
   "cell_type": "code",
   "execution_count": null,
   "id": "c782ba66-bc80-4ffb-aa4a-8ab9eaeaabf6",
   "metadata": {},
   "outputs": [],
   "source": [
    "high_altfreq_threshold <- snakemake@params$high_altfreq_threshold"
   ]
  },
  {
   "cell_type": "code",
   "execution_count": null,
   "id": "979acd6b-bbce-4aab-96ba-3855ed93675e",
   "metadata": {},
   "outputs": [],
   "source": [
    "TBaltfreq <- snakemake@input$Lvariant_info %>% \n",
    "    map(~parse_altfreq(.x, high_altfreq_threshold)) %>% unlist %>% \n",
    "    as_tibble(rownames='sample') %>% dplyr::rename(high_altfreq=value)"
   ]
  },
  {
   "cell_type": "code",
   "execution_count": null,
   "id": "c8a0ef5f-a728-4663-b7bb-d158528fc74a",
   "metadata": {
    "tags": []
   },
   "outputs": [],
   "source": [
    "# merge"
   ]
  },
  {
   "cell_type": "code",
   "execution_count": null,
   "id": "9695c4ae-682f-40f4-978d-17635cc5d2b2",
   "metadata": {
    "tags": []
   },
   "outputs": [],
   "source": [
    "TBres <- TBqc %>% left_join(TBdup, by='sample') %>% \n",
    "    left_join(TBalign, by='sample') %>% left_join(TBaltfreq, by='sample') %>% left_join(TBseq, by='sample')"
   ]
  },
  {
   "cell_type": "code",
   "execution_count": null,
   "id": "78965515-2264-4767-9dc4-bfcb94466ac9",
   "metadata": {
    "tags": []
   },
   "outputs": [],
   "source": [
    "TBres <- TBres %>% mutate(\n",
    "        align_rate=align_reads/(2*readpair_flt),\n",
    "        dup_rate=dup_reads/(2*readpair_flt),\n",
    "        depth=round(readpair_flt * 300 * align_rate / 30000) %>% str_c('x')) %>% \n",
    "    relocate(depth, align_rate, dup_rate, high_altfreq, .after=sample) %>%\n",
    "    select(-align_reads, -dup_reads)"
   ]
  },
  {
   "cell_type": "code",
   "execution_count": null,
   "id": "18265529-e71b-413e-92e6-36cd2a031dbf",
   "metadata": {},
   "outputs": [],
   "source": [
    "TBres %>% write_excel_csv(snakemake@output$upstream_stat)"
   ]
  },
  {
   "cell_type": "code",
   "execution_count": null,
   "id": "d36fa77e-c018-433d-b4e2-cd56e4e29fb8",
   "metadata": {},
   "outputs": [],
   "source": [
    "# fasta"
   ]
  },
  {
   "cell_type": "code",
   "execution_count": null,
   "id": "ec14a3e8-f994-4d9b-a5d5-e3a5d2027ba5",
   "metadata": {},
   "outputs": [],
   "source": [
    "F <- file(snakemake@output$merge_consensus_fa, \"w\" )\n",
    "TBseq %>% pmap_chr(~ str_c(str_glue('>{..1}'), ..2, sep='\\n')) %>% writeLines(F)\n",
    "close(F)"
   ]
  }
 ],
 "metadata": {
  "kernelspec": {
   "display_name": "nCoV",
   "language": "R",
   "name": "ncov"
  },
  "language_info": {
   "codemirror_mode": "r",
   "file_extension": ".r",
   "mimetype": "text/x-r-source",
   "name": "R",
   "pygments_lexer": "r",
   "version": "4.2.2"
  }
 },
 "nbformat": 4,
 "nbformat_minor": 5
}
