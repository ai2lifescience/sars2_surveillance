{
 "cells": [
  {
   "cell_type": "code",
   "execution_count": null,
   "id": "b7d9bc2c-776a-4a06-8bbc-63ae09dcaa9d",
   "metadata": {
    "tags": []
   },
   "outputs": [],
   "source": [
    "R.home()"
   ]
  },
  {
   "cell_type": "code",
   "execution_count": null,
   "id": "ebaaed33-2466-46e4-a649-cc2e646f919f",
   "metadata": {
    "tags": []
   },
   "outputs": [],
   "source": [
    "library(tidyverse)\n",
    "library(rjson)\n",
    "library(Biostrings)"
   ]
  },
  {
   "cell_type": "code",
   "execution_count": null,
   "id": "13aeda9d-aec4-4024-930c-fd56ae708f8e",
   "metadata": {
    "tags": []
   },
   "outputs": [],
   "source": [
    "# qc"
   ]
  },
  {
   "cell_type": "code",
   "execution_count": null,
   "id": "983aad10-d560-4891-9ecf-7189098641ee",
   "metadata": {
    "tags": []
   },
   "outputs": [],
   "source": [
    "parse_fastp <- function(sample, path) {\n",
    "    Ljs <- fromJSON(file=path)\n",
    "    bind_cols(\n",
    "        sample=sample,\n",
    "        Ljs$summary$before_filtering %>% as_tibble %>% \n",
    "            select(readpair_raw=total_reads, q30_raw=q30_rate, R1_len_raw=read1_mean_length, R2_len_raw=read2_mean_length, GC_raw=gc_content),\n",
    "        Ljs$summary$after_filtering %>% as_tibble %>% \n",
    "            select(readpair_flt=total_reads, q30_flt=q30_rate, R1_len_flt=read1_mean_length, R2_len_flt=read2_mean_length, GC_flt=gc_content)\n",
    "    ) %>%\n",
    "    mutate(readpair_raw=readpair_raw/2, readpair_flt=readpair_flt/2)\n",
    "}"
   ]
  },
  {
   "cell_type": "code",
   "execution_count": null,
   "id": "d1095543-57df-48dc-9688-21b1264d19e4",
   "metadata": {
    "tags": []
   },
   "outputs": [],
   "source": [
    "TBqc <- snakemake@input$Lqc %>% map_dfr(\n",
    "    ~parse_fastp(str_replace(basename(.x), '\\\\.\\\\w+$', ''), .x)\n",
    "    )"
   ]
  },
  {
   "cell_type": "code",
   "execution_count": null,
   "id": "4a774cc7-f189-4dae-a6f6-f50656c86c6e",
   "metadata": {
    "tags": []
   },
   "outputs": [],
   "source": [
    "# consensus sequence"
   ]
  },
  {
   "cell_type": "code",
   "execution_count": null,
   "id": "56c4df9d-fc30-437a-9678-4fd5465430e7",
   "metadata": {
    "tags": []
   },
   "outputs": [],
   "source": [
    "TBseq <- snakemake@input$Lconsensus %>% readDNAStringSet %>% as.data.frame %>% \n",
    "    rownames_to_column('sample') %>% select(sample=1, consensus_seq=2)"
   ]
  },
  {
   "cell_type": "code",
   "execution_count": null,
   "id": "e0068899-7241-4cda-a741-bb0d969f02e8",
   "metadata": {
    "tags": []
   },
   "outputs": [],
   "source": [
    "# align"
   ]
  },
  {
   "cell_type": "code",
   "execution_count": null,
   "id": "a14b1742-6dae-4ba0-9b97-1f6564e8bb33",
   "metadata": {
    "tags": []
   },
   "outputs": [],
   "source": [
    "parse_align <- function(sample, path) {\n",
    "    Vlog <- file(path, open=\"r\") %>% readLines\n",
    "    align_reads <- Vlog %>% grep('Mapped Reads: \\\\d+', ., value=TRUE) %>% \n",
    "        str_split(': ') %>% map_chr(~.x[2]) %>% as.double\n",
    "    names(align_reads) <- sample\n",
    "    return (align_reads)\n",
    "}"
   ]
  },
  {
   "cell_type": "code",
   "execution_count": null,
   "id": "e87e558c-e5cb-4609-a72a-dd598a83eab0",
   "metadata": {
    "tags": []
   },
   "outputs": [],
   "source": [
    "TBalign <- snakemake@input$Lalign_rate %>% \n",
    "    map(~parse_align(str_replace(basename(.x), '\\\\.\\\\w+$', ''), .x)) %>%\n",
    "    unlist %>% as_tibble(rownames='sample') %>% dplyr::rename(align_reads=value)"
   ]
  },
  {
   "cell_type": "code",
   "execution_count": null,
   "id": "106a3c0d-86c3-44ef-a14f-0318e2e5c3e1",
   "metadata": {
    "tags": []
   },
   "outputs": [],
   "source": [
    "# dup"
   ]
  },
  {
   "cell_type": "code",
   "execution_count": null,
   "id": "50b87e15-2cea-43c4-98c1-238f9a78c497",
   "metadata": {
    "tags": []
   },
   "outputs": [],
   "source": [
    "parse_dup <- function (sample, path) {\n",
    "    Vlog <- file(path, open=\"r\") %>% readLines\n",
    "    dup_reads <- Vlog %>% grep(' found \\\\d+ duplicates', ., value=TRUE) %>% \n",
    "        str_split(' ') %>% map_chr(~.x[4]) %>% as.double\n",
    "    names(dup_reads) <- sample\n",
    "    return (dup_reads)\n",
    "}"
   ]
  },
  {
   "cell_type": "code",
   "execution_count": null,
   "id": "f5935d6b-354c-4521-a4ff-5b150377ae1f",
   "metadata": {
    "tags": []
   },
   "outputs": [],
   "source": [
    "TBdup <- snakemake@input$Ldup_rate %>% \n",
    "    map(~parse_dup(str_replace(basename(.x), '\\\\.\\\\w+$', ''), .x)) %>%\n",
    "    unlist %>% as_tibble(rownames='sample') %>% dplyr::rename(dup_reads=value)"
   ]
  },
  {
   "cell_type": "code",
   "execution_count": null,
   "id": "e9566174-de8c-46dc-98cb-69c681c6c5c1",
   "metadata": {},
   "outputs": [],
   "source": [
    "# variant info"
   ]
  },
  {
   "cell_type": "code",
   "execution_count": null,
   "id": "d27449ce-84a9-439a-8593-401c37138e88",
   "metadata": {},
   "outputs": [],
   "source": [
    "parse_altfreq <- function(path, high_altfreq_threshold=0.6) {\n",
    "    tb <- read_tsv(path)\n",
    "    high_altfreq <- tb %>% filter(ALT_FREQ > high_altfreq_threshold) %>% nrow / nrow(tb)\n",
    "    sample <- unique(tb$REGION)\n",
    "    names(high_altfreq) <- sample\n",
    "    return (high_altfreq)\n",
    "}"
   ]
  },
  {
   "cell_type": "code",
   "execution_count": null,
   "id": "1b3251c4-3565-4154-ad32-94e9335fd2dd",
   "metadata": {},
   "outputs": [],
   "source": [
    "high_altfreq_threshold <- snakemake@params$high_altfreq_threshold"
   ]
  },
  {
   "cell_type": "code",
   "execution_count": null,
   "id": "be5259a8-ef4d-46e2-9ed1-1d2e4bb6b295",
   "metadata": {},
   "outputs": [],
   "source": [
    "TBaltfreq <- snakemake@input$Lvariant_info %>% \n",
    "    map(~parse_altfreq(.x, high_altfreq_threshold)) %>% unlist %>% \n",
    "    as_tibble(rownames='sample') %>% dplyr::rename(high_altfreq=value)"
   ]
  },
  {
   "cell_type": "code",
   "execution_count": null,
   "id": "9ba13921-7be5-41ef-8df4-40d4e22067fb",
   "metadata": {
    "tags": []
   },
   "outputs": [],
   "source": [
    "# merge"
   ]
  },
  {
   "cell_type": "code",
   "execution_count": null,
   "id": "be4728cd-1ade-4bd6-b5b9-41edd64cedf7",
   "metadata": {
    "tags": []
   },
   "outputs": [],
   "source": [
    "TBres <- TBqc %>% left_join(TBdup, by='sample') %>% \n",
    "    left_join(TBalign, by='sample') %>% left_join(TBaltfreq, by='sample') %>% left_join(TBseq, by='sample')"
   ]
  },
  {
   "cell_type": "code",
   "execution_count": null,
   "id": "570e1795-3210-4731-b323-839bc5b73ffe",
   "metadata": {
    "tags": []
   },
   "outputs": [],
   "source": [
    "TBres <- TBres %>% mutate(\n",
    "        align_rate=align_reads/(2*readpair_flt),\n",
    "        dup_rate=dup_reads/(2*readpair_flt),\n",
    "        depth=round(readpair_flt * 300 * align_rate / 30000) %>% str_c('x')) %>% \n",
    "    relocate(depth, align_rate, dup_rate, high_altfreq, .after=sample) %>%\n",
    "    select(-align_reads, -dup_reads)"
   ]
  },
  {
   "cell_type": "code",
   "execution_count": null,
   "id": "ac0dcf27-869c-4735-b993-320138d8114f",
   "metadata": {},
   "outputs": [],
   "source": [
    "TBres %>% write_excel_csv(snakemake@output$upstream_stat)"
   ]
  },
  {
   "cell_type": "code",
   "execution_count": null,
   "id": "8936e440-1535-4720-9964-de81617c3dc3",
   "metadata": {},
   "outputs": [],
   "source": [
    "# fasta"
   ]
  },
  {
   "cell_type": "code",
   "execution_count": null,
   "id": "559ce3d9-3cd7-42c4-b138-b400bfedd8b3",
   "metadata": {},
   "outputs": [],
   "source": [
    "F <- file(snakemake@output$merge_consensus_fa, \"w\" )\n",
    "TBseq %>% pmap_chr(~ str_c(str_glue('>{..1}'), ..2, sep='\\n')) %>% writeLines(F)\n",
    "close(F)"
   ]
  }
 ],
 "metadata": {
  "kernelspec": {
   "display_name": "nCoV",
   "language": "R",
   "name": "ncov"
  },
  "language_info": {
   "codemirror_mode": "r",
   "file_extension": ".r",
   "mimetype": "text/x-r-source",
   "name": "R",
   "pygments_lexer": "r",
   "version": "4.2.2"
  }
 },
 "nbformat": 4,
 "nbformat_minor": 5
}
